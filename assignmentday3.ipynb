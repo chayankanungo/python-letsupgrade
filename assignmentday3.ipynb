{
 "cells": [
  {
   "cell_type": "markdown",
   "metadata": {},
   "source": [
    "# sum of n integer numbers\n"
   ]
  },
  {
   "cell_type": "code",
   "execution_count": 3,
   "metadata": {},
   "outputs": [
    {
     "name": "stdout",
     "output_type": "stream",
     "text": [
      "enter the valu of n5\n",
      "15\n"
     ]
    }
   ],
   "source": [
    "num= int(input(\"enter the valu of n\"))\n",
    "sum=0\n",
    "for i in range(1,num+1):\n",
    "    sum=sum+i\n",
    "print(sum)    \n",
    "    "
   ]
  },
  {
   "cell_type": "markdown",
   "metadata": {},
   "source": [
    "# chek number is prime or not"
   ]
  },
  {
   "cell_type": "code",
   "execution_count": 5,
   "metadata": {},
   "outputs": [
    {
     "name": "stdout",
     "output_type": "stream",
     "text": [
      "enter the valu of n5\n",
      "the no is prime\n"
     ]
    }
   ],
   "source": [
    "num= int(input(\"enter the valu of n\"))\n",
    "for i in range(2,num):\n",
    "    if num%i==0:\n",
    "        print(\"the no is not prime\")\n",
    "        break\n",
    "else:\n",
    "    print(\"the no is prime\")"
   ]
  },
  {
   "cell_type": "code",
   "execution_count": 6,
   "metadata": {},
   "outputs": [
    {
     "name": "stdout",
     "output_type": "stream",
     "text": [
      "enter the valu of n6\n",
      "the no is not prime\n"
     ]
    }
   ],
   "source": [
    "num= int(input(\"enter the valu of n\"))\n",
    "for i in range(2,num):\n",
    "    if num%i==0:\n",
    "        print(\"the no is not prime\")\n",
    "        break\n",
    "else:\n",
    "    print(\"the no is prime\")\n",
    "    "
   ]
  },
  {
   "cell_type": "code",
   "execution_count": null,
   "metadata": {},
   "outputs": [],
   "source": []
  }
 ],
 "metadata": {
  "kernelspec": {
   "display_name": "Python 3",
   "language": "python",
   "name": "python3"
  },
  "language_info": {
   "codemirror_mode": {
    "name": "ipython",
    "version": 3
   },
   "file_extension": ".py",
   "mimetype": "text/x-python",
   "name": "python",
   "nbconvert_exporter": "python",
   "pygments_lexer": "ipython3",
   "version": "3.7.6"
  }
 },
 "nbformat": 4,
 "nbformat_minor": 4
}
